{
 "cells": [
  {
   "cell_type": "code",
   "execution_count": 3,
   "metadata": {},
   "outputs": [],
   "source": [
    "#Utils\n",
    "import dweepy\n",
    "import random\n",
    "import time\n",
    "import pyttsx3\n",
    "speaker = pyttsx3.init()\n",
    "\n",
    "#Nuestros modulos\n",
    "\n",
    "from TempGeoMod.TemperatureandGeoModule import getTemperature_Humidity, getLocation\n",
    "from UltrasonicWaterMod.ultrasonic_distance import getDistance\n",
    "from UltrasonicWaterMod.Water import getDisp\n",
    "from GasBuzzerMotionMod.buzzer_player import playSong\n",
    "from GasBuzzerMotionMod.gas import getGasValue\n",
    "from GasBuzzerMotionMod.motion import getMotion\n"
   ]
  },
  {
   "cell_type": "code",
   "execution_count": 7,
   "metadata": {},
   "outputs": [],
   "source": []
  },
  {
   "cell_type": "code",
   "execution_count": 4,
   "metadata": {},
   "outputs": [],
   "source": [
    "def showsmt():\n",
    "    return 'heyhey'\n",
    "def showint():\n",
    "    return random.randrange(40,45)\n",
    "def showfloat():\n",
    "    loc = []\n",
    "    loc.append(round(random.uniform(42.5, 44.0),2))\n",
    "    loc.append(round(random.uniform(-2.5, -3.0),2))\n",
    "    return loc"
   ]
  },
  {
   "cell_type": "code",
   "execution_count": 11,
   "metadata": {},
   "outputs": [
    {
     "name": "stdout",
     "output_type": "stream",
     "text": [
      "Temp=26.0*C Hum=23.0%\n",
      "heyhey\n",
      "26.0\n",
      "23.0\n",
      "40.4165\n",
      "-3.70256\n",
      "1\n",
      "3.5433933652680496\n",
      "26\n",
      "Temp=26.0*C Hum=24.0%\n"
     ]
    },
    {
     "ename": "RuntimeError",
     "evalue": "Please set pin numbering mode using GPIO.setmode(GPIO.BOARD) or GPIO.setmode(GPIO.BCM)",
     "output_type": "error",
     "traceback": [
      "\u001b[0;31m---------------------------------------------------------------------------\u001b[0m",
      "\u001b[0;31mRuntimeError\u001b[0m                              Traceback (most recent call last)",
      "\u001b[0;32m<ipython-input-11-3bedc22d86d1>\u001b[0m in \u001b[0;36m<module>\u001b[0;34m\u001b[0m\n\u001b[1;32m     13\u001b[0m \u001b[0;34m\u001b[0m\u001b[0m\n\u001b[1;32m     14\u001b[0m \u001b[0;34m\u001b[0m\u001b[0m\n\u001b[0;32m---> 15\u001b[0;31m     \u001b[0mdistan\u001b[0m \u001b[0;34m=\u001b[0m \u001b[0mgetDistance\u001b[0m\u001b[0;34m(\u001b[0m\u001b[0;34m)\u001b[0m\u001b[0;34m\u001b[0m\u001b[0;34m\u001b[0m\u001b[0m\n\u001b[0m\u001b[1;32m     16\u001b[0m \u001b[0;34m\u001b[0m\u001b[0m\n\u001b[1;32m     17\u001b[0m     \u001b[0mwater\u001b[0m \u001b[0;34m=\u001b[0m \u001b[0mgetDisp\u001b[0m\u001b[0;34m(\u001b[0m\u001b[0;34m)\u001b[0m\u001b[0;34m\u001b[0m\u001b[0;34m\u001b[0m\u001b[0m\n",
      "\u001b[0;32m~/Swann/ProyectoSwann/UltrasonicWaterMod/ultrasonic_distance.py\u001b[0m in \u001b[0;36mgetDistance\u001b[0;34m()\u001b[0m\n\u001b[1;32m     60\u001b[0m \u001b[0;34m\u001b[0m\u001b[0m\n\u001b[1;32m     61\u001b[0m \u001b[0;32mdef\u001b[0m \u001b[0mgetDistance\u001b[0m\u001b[0;34m(\u001b[0m\u001b[0;34m)\u001b[0m\u001b[0;34m:\u001b[0m\u001b[0;34m\u001b[0m\u001b[0;34m\u001b[0m\u001b[0m\n\u001b[0;32m---> 62\u001b[0;31m     \u001b[0;32mreturn\u001b[0m \u001b[0mGroveUltrasonicRanger\u001b[0m\u001b[0;34m(\u001b[0m\u001b[0;36m5\u001b[0m\u001b[0;34m)\u001b[0m\u001b[0;34m.\u001b[0m\u001b[0mget_distance\u001b[0m\u001b[0;34m(\u001b[0m\u001b[0;34m)\u001b[0m\u001b[0;34m\u001b[0m\u001b[0;34m\u001b[0m\u001b[0m\n\u001b[0m\u001b[1;32m     63\u001b[0m \u001b[0;34m\u001b[0m\u001b[0m\n\u001b[1;32m     64\u001b[0m \u001b[0;34m\u001b[0m\u001b[0m\n",
      "\u001b[0;32m~/Swann/ProyectoSwann/UltrasonicWaterMod/ultrasonic_distance.py\u001b[0m in \u001b[0;36mget_distance\u001b[0;34m(self)\u001b[0m\n\u001b[1;32m     52\u001b[0m     \u001b[0;32mdef\u001b[0m \u001b[0mget_distance\u001b[0m\u001b[0;34m(\u001b[0m\u001b[0mself\u001b[0m\u001b[0;34m)\u001b[0m\u001b[0;34m:\u001b[0m\u001b[0;34m\u001b[0m\u001b[0;34m\u001b[0m\u001b[0m\n\u001b[1;32m     53\u001b[0m         \u001b[0;32mwhile\u001b[0m \u001b[0;32mTrue\u001b[0m\u001b[0;34m:\u001b[0m\u001b[0;34m\u001b[0m\u001b[0;34m\u001b[0m\u001b[0m\n\u001b[0;32m---> 54\u001b[0;31m             \u001b[0mdist\u001b[0m \u001b[0;34m=\u001b[0m \u001b[0mself\u001b[0m\u001b[0;34m.\u001b[0m\u001b[0m_get_distance\u001b[0m\u001b[0;34m(\u001b[0m\u001b[0;34m)\u001b[0m\u001b[0;34m\u001b[0m\u001b[0;34m\u001b[0m\u001b[0m\n\u001b[0m\u001b[1;32m     55\u001b[0m             \u001b[0;32mif\u001b[0m \u001b[0mdist\u001b[0m\u001b[0;34m:\u001b[0m\u001b[0;34m\u001b[0m\u001b[0;34m\u001b[0m\u001b[0m\n\u001b[1;32m     56\u001b[0m                 \u001b[0;32mreturn\u001b[0m \u001b[0mdist\u001b[0m\u001b[0;34m\u001b[0m\u001b[0;34m\u001b[0m\u001b[0m\n",
      "\u001b[0;32m~/Swann/ProyectoSwann/UltrasonicWaterMod/ultrasonic_distance.py\u001b[0m in \u001b[0;36m_get_distance\u001b[0;34m(self)\u001b[0m\n\u001b[1;32m     13\u001b[0m \u001b[0;34m\u001b[0m\u001b[0m\n\u001b[1;32m     14\u001b[0m     \u001b[0;32mdef\u001b[0m \u001b[0m_get_distance\u001b[0m\u001b[0;34m(\u001b[0m\u001b[0mself\u001b[0m\u001b[0;34m)\u001b[0m\u001b[0;34m:\u001b[0m\u001b[0;34m\u001b[0m\u001b[0;34m\u001b[0m\u001b[0m\n\u001b[0;32m---> 15\u001b[0;31m         \u001b[0mself\u001b[0m\u001b[0;34m.\u001b[0m\u001b[0mdio\u001b[0m\u001b[0;34m.\u001b[0m\u001b[0mdir\u001b[0m\u001b[0;34m(\u001b[0m\u001b[0mGPIO\u001b[0m\u001b[0;34m.\u001b[0m\u001b[0mOUT\u001b[0m\u001b[0;34m)\u001b[0m\u001b[0;34m\u001b[0m\u001b[0;34m\u001b[0m\u001b[0m\n\u001b[0m\u001b[1;32m     16\u001b[0m         \u001b[0mself\u001b[0m\u001b[0;34m.\u001b[0m\u001b[0mdio\u001b[0m\u001b[0;34m.\u001b[0m\u001b[0mwrite\u001b[0m\u001b[0;34m(\u001b[0m\u001b[0;36m0\u001b[0m\u001b[0;34m)\u001b[0m\u001b[0;34m\u001b[0m\u001b[0;34m\u001b[0m\u001b[0m\n\u001b[1;32m     17\u001b[0m         \u001b[0musleep\u001b[0m\u001b[0;34m(\u001b[0m\u001b[0;36m2\u001b[0m\u001b[0;34m)\u001b[0m\u001b[0;34m\u001b[0m\u001b[0;34m\u001b[0m\u001b[0m\n",
      "\u001b[0;32m/usr/local/lib/python3.7/dist-packages/grove/gpio/gpio_rpi.py\u001b[0m in \u001b[0;36mdir\u001b[0;34m(self, direction)\u001b[0m\n\u001b[1;32m     30\u001b[0m \u001b[0;34m\u001b[0m\u001b[0m\n\u001b[1;32m     31\u001b[0m     \u001b[0;32mdef\u001b[0m \u001b[0mdir\u001b[0m\u001b[0;34m(\u001b[0m\u001b[0mself\u001b[0m\u001b[0;34m,\u001b[0m \u001b[0mdirection\u001b[0m\u001b[0;34m)\u001b[0m\u001b[0;34m:\u001b[0m\u001b[0;34m\u001b[0m\u001b[0;34m\u001b[0m\u001b[0m\n\u001b[0;32m---> 32\u001b[0;31m         \u001b[0mRPi\u001b[0m\u001b[0;34m.\u001b[0m\u001b[0mGPIO\u001b[0m\u001b[0;34m.\u001b[0m\u001b[0msetup\u001b[0m\u001b[0;34m(\u001b[0m\u001b[0mself\u001b[0m\u001b[0;34m.\u001b[0m\u001b[0mpin\u001b[0m\u001b[0;34m,\u001b[0m \u001b[0mdirection\u001b[0m\u001b[0;34m)\u001b[0m\u001b[0;34m\u001b[0m\u001b[0;34m\u001b[0m\u001b[0m\n\u001b[0m\u001b[1;32m     33\u001b[0m \u001b[0;34m\u001b[0m\u001b[0m\n\u001b[1;32m     34\u001b[0m     \u001b[0;32mdef\u001b[0m \u001b[0mwrite\u001b[0m\u001b[0;34m(\u001b[0m\u001b[0mself\u001b[0m\u001b[0;34m,\u001b[0m \u001b[0moutput\u001b[0m\u001b[0;34m)\u001b[0m\u001b[0;34m:\u001b[0m\u001b[0;34m\u001b[0m\u001b[0;34m\u001b[0m\u001b[0m\n",
      "\u001b[0;31mRuntimeError\u001b[0m: Please set pin numbering mode using GPIO.setmode(GPIO.BOARD) or GPIO.setmode(GPIO.BCM)"
     ]
    }
   ],
   "source": [
    "tempsum = 0.0\n",
    "humsum = 0.0\n",
    "c =0\n",
    "\n",
    "while True:\n",
    "    smt = showsmt()\n",
    "    temphum = getTemperature_Humidity()\n",
    "    loc = getLocation()\n",
    "    #dis = random.randint(0,1)\n",
    "    tempsum += float(temphum[0])\n",
    "    humsum += float(temphum[1])\n",
    "    c +=1\n",
    "    \n",
    "    \n",
    "    distan = getDistance()\n",
    "    \n",
    "    water = getDisp()\n",
    "    gas = getGasValue(0)\n",
    "    \n",
    "    \n",
    "    \n",
    "    \n",
    "    \n",
    "    \n",
    "    \n",
    "    print(smt)\n",
    "    print(temphum[0])\n",
    "    print(temphum[1])\n",
    "    print(loc['lat'])\n",
    "    print(loc['lon'])\n",
    "    print(dis)\n",
    "    print(distan)\n",
    "    print(gas)\n",
    "    \n",
    "    \n",
    "    \n",
    "    \n",
    "    if(distan > 40.0 and gas > 20 and temphum[0] > 20 and temphum[1] > 20):\n",
    "        dis = 1\n",
    "    else:\n",
    "        dis = 0\n",
    "    \n",
    "    if (dis==1):\n",
    "        water.on()\n",
    "    else:\n",
    "        water.off()\n",
    "        \n",
    "    playSong(1)\n",
    "    dweepy.dweet_for('swann_dash', {'smt': smt, 'temp': float(temphum[0]), 'hum': float(temphum[1]), 'lat': loc['lat'],\n",
    "                                    'log': loc['lon'], 'disp': dis, 'gas': gas, 'distan': distan, 'tempav': round(float(tempsum/c),1), 'humav': round(float(humsum/c))})\n",
    "    speaker.say(\"Data uploaded!\")\n",
    "    speaker.runAndWait()\n",
    "    if (dis == 1):\n",
    "        speaker.say(\"Activated!\")\n",
    "        speaker.runAndWait()\n",
    "    time.sleep(1)"
   ]
  },
  {
   "cell_type": "code",
   "execution_count": 17,
   "metadata": {},
   "outputs": [
    {
     "data": {
      "text/plain": [
       "[{'thing': 'prueba_daic',\n",
       "  'created': '2021-01-02T11:34:00.456Z',\n",
       "  'content': {'smt': 'heyhey', 'temp': 40, 'lat': 1.55, 'log': 3.45}}]"
      ]
     },
     "execution_count": 17,
     "metadata": {},
     "output_type": "execute_result"
    }
   ],
   "source": [
    "dweepy.get_latest_dweet_for('prueba_daic')"
   ]
  },
  {
   "cell_type": "code",
   "execution_count": 19,
   "metadata": {},
   "outputs": [
    {
     "data": {
      "text/plain": [
       "[{'thing': 'prueba_daic',\n",
       "  'created': '2021-01-02T11:34:00.456Z',\n",
       "  'content': {'smt': 'heyhey', 'temp': 40, 'lat': 1.55, 'log': 3.45}},\n",
       " {'thing': 'prueba_daic',\n",
       "  'created': '2021-01-02T11:33:55.387Z',\n",
       "  'content': {'smt': 'heyhey', 'temp': 44, 'lat': 1.55, 'log': 3.45}},\n",
       " {'thing': 'prueba_daic',\n",
       "  'created': '2021-01-02T11:31:38.809Z',\n",
       "  'content': {'smt': 'heyhey', 'temp': 43, 'lat': 1.55, 'log': 3.45}}]"
      ]
     },
     "execution_count": 19,
     "metadata": {},
     "output_type": "execute_result"
    }
   ],
   "source": [
    "dweepy.get_dweets_for('prueba_daic')"
   ]
  },
  {
   "cell_type": "code",
   "execution_count": 10,
   "metadata": {},
   "outputs": [],
   "source": [
    "water.off()"
   ]
  },
  {
   "cell_type": "code",
   "execution_count": null,
   "metadata": {},
   "outputs": [],
   "source": []
  }
 ],
 "metadata": {
  "kernelspec": {
   "display_name": "Python 3",
   "language": "python",
   "name": "python3"
  },
  "language_info": {
   "codemirror_mode": {
    "name": "ipython",
    "version": 3
   },
   "file_extension": ".py",
   "mimetype": "text/x-python",
   "name": "python",
   "nbconvert_exporter": "python",
   "pygments_lexer": "ipython3",
   "version": "3.7.3"
  }
 },
 "nbformat": 4,
 "nbformat_minor": 4
}
